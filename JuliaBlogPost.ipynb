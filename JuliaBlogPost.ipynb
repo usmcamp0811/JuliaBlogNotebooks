{
 "cells": [
  {
   "cell_type": "markdown",
   "metadata": {},
   "source": [
    "# First couple of dates with Julia...\n",
    "\n",
    "Hello, so I have spent the past week or so getting familiar with Julia. This is a really neat language! It is being heavily developed by [MIT](http://news.mit.edu/2018/mit-developed-julia-programming-language-debuts-juliacon-0827) and is already finding some very neat real world use cases at places like [FAA](https://juliacomputing.com/case-studies/lincoln-labs.html), [Federal Reserve](https://juliacomputing.com/case-studies/ny-fed.html), Google, Amazon... Julia was designed as a modern programming language that is capable of solving the two language problem that many people face. I kind of liken Julia to a designer test tube baby spawn of Python, R, and C. It has the ease of development of Python, the pure math pedigree of R and the performance of C. \n",
    "\n",
    "Julia is not a pure object oriented programing language (OOP), rather it uses what is called a [Duck Type](https://en.wikipedia.org/wiki/Duck_typing) language. This is the first time I have ever heard of it. So, I made this notebook mostly to help myself attempt to understand and learn about the differences between Python's Class based style of doing OOP and Julia's Type based pseudo OOP style. Hopefully my code examples and ramblings can be of some use to others who have stumbled on Julia. [Type-Dispatch Design: Post Object-Oriented Programming for Julia](http://www.stochasticlifestyle.com/type-dispatch-design-post-object-oriented-programming-julia/) was a good article that helped me a lot. I also spent a lot of time reading the [Julia documentation](https://docs.julialang.org/en/v1/) as it is very detailed and well written. "
   ]
  },
  {
   "cell_type": "markdown",
   "metadata": {
    "ExecuteTime": {
     "end_time": "2018-09-12T19:29:38.747000-05:00",
     "start_time": "2018-09-13T00:29:37.672Z"
    }
   },
   "source": [
    "## Intro to Types"
   ]
  },
  {
   "cell_type": "code",
   "execution_count": 1,
   "metadata": {
    "ExecuteTime": {
     "end_time": "2018-09-12T21:52:10.183000-05:00",
     "start_time": "2018-09-13T02:52:07.842Z"
    }
   },
   "outputs": [
    {
     "name": "stdout",
     "output_type": "stream",
     "text": [
      "  0.000003 seconds (7 allocations: 288 bytes)\n"
     ]
    },
    {
     "data": {
      "text/plain": [
       "1:1000000"
      ]
     },
     "execution_count": 1,
     "metadata": {},
     "output_type": "execute_result"
    }
   ],
   "source": [
    "@time a = 1:1000000 # this happens at )(1) time! its not really creating an array but is rather just a function."
   ]
  },
  {
   "cell_type": "code",
   "execution_count": 2,
   "metadata": {
    "ExecuteTime": {
     "end_time": "2018-09-12T21:52:10.339000-05:00",
     "start_time": "2018-09-13T02:52:08.856Z"
    }
   },
   "outputs": [
    {
     "data": {
      "text/plain": [
       "94"
      ]
     },
     "execution_count": 2,
     "metadata": {},
     "output_type": "execute_result"
    }
   ],
   "source": [
    "a[94] # we can index `a` "
   ]
  },
  {
   "cell_type": "code",
   "execution_count": 3,
   "metadata": {
    "ExecuteTime": {
     "end_time": "2018-09-12T21:52:10.442000-05:00",
     "start_time": "2018-09-13T02:52:09.998Z"
    }
   },
   "outputs": [
    {
     "name": "stdout",
     "output_type": "stream",
     "text": [
      "  0.030751 seconds (30 allocations: 76.297 MiB, 27.98% gc time)\n",
      "\n",
      "\n",
      "We can index `a` or `b` the same, but a was created in a fraction of the time.\n",
      "a[69] = 69\n",
      "b[69] = 69\n"
     ]
    }
   ],
   "source": [
    "@time b = collect(1:10000000)\n",
    "println(\"\\n\\nWe can index `a` or `b` the same, but a was created in a fraction of the time.\")\n",
    "println(\"a[69] = \", a[69])\n",
    "println(\"b[69] = \", b[69])"
   ]
  },
  {
   "cell_type": "markdown",
   "metadata": {},
   "source": [
    "Just out of curiosity lets see how long it would take to create an array of equal size in Python. "
   ]
  },
  {
   "cell_type": "code",
   "execution_count": 1,
   "metadata": {
    "ExecuteTime": {
     "end_time": "2018-09-13T02:52:45.504678Z",
     "start_time": "2018-09-13T02:52:45.403357Z"
    }
   },
   "outputs": [
    {
     "name": "stdout",
     "output_type": "stream",
     "text": [
      "0.024788 seconds\n",
      "\n",
      "\n",
      "And for unitfority sake lets index `c`.\n",
      "c[69] =  69\n"
     ]
    }
   ],
   "source": [
    "import numpy as np\n",
    "from datetime import datetime\n",
    "\n",
    "t1 = datetime.now()\n",
    "c = np.arange(10000000)\n",
    "t2 = datetime.now()\n",
    "print((t2-t1).total_seconds(), \"seconds\")\n",
    "print(\"\\n\\nAnd for unitfority sake lets index `c`.\")\n",
    "print(\"c[69] = \", c[69])"
   ]
  },
  {
   "cell_type": "code",
   "execution_count": 4,
   "metadata": {
    "ExecuteTime": {
     "end_time": "2018-09-12T21:52:17.165000-05:00",
     "start_time": "2018-09-13T02:52:16.944Z"
    }
   },
   "outputs": [
    {
     "data": {
      "text/plain": [
       "false"
      ]
     },
     "execution_count": 4,
     "metadata": {},
     "output_type": "execute_result"
    }
   ],
   "source": [
    "typeof(a) == typeof(b)"
   ]
  },
  {
   "cell_type": "code",
   "execution_count": 5,
   "metadata": {
    "ExecuteTime": {
     "end_time": "2018-09-12T21:52:17.715000-05:00",
     "start_time": "2018-09-13T02:52:17.395Z"
    }
   },
   "outputs": [
    {
     "data": {
      "text/plain": [
       "(UnitRange{Int64}, Array{Int64,1})"
      ]
     },
     "execution_count": 5,
     "metadata": {},
     "output_type": "execute_result"
    }
   ],
   "source": [
    "typeof(a), typeof(b)"
   ]
  },
  {
   "cell_type": "code",
   "execution_count": 6,
   "metadata": {
    "ExecuteTime": {
     "end_time": "2018-09-12T21:52:17.721000-05:00",
     "start_time": "2018-09-13T02:52:17.595Z"
    }
   },
   "outputs": [
    {
     "data": {
      "text/plain": [
       "true"
      ]
     },
     "execution_count": 6,
     "metadata": {},
     "output_type": "execute_result"
    }
   ],
   "source": [
    "typeof(a) <: AbstractArray"
   ]
  },
  {
   "cell_type": "code",
   "execution_count": 7,
   "metadata": {
    "ExecuteTime": {
     "end_time": "2018-09-12T21:52:17.813000-05:00",
     "start_time": "2018-09-13T02:52:17.811Z"
    }
   },
   "outputs": [
    {
     "data": {
      "text/plain": [
       "true"
      ]
     },
     "execution_count": 7,
     "metadata": {},
     "output_type": "execute_result"
    }
   ],
   "source": [
    "typeof(b) <: AbstractArray"
   ]
  },
  {
   "cell_type": "markdown",
   "metadata": {},
   "source": [
    "Looks like both Julia and Python can populate an array about the same speed(I ran it several times and it was a toss up). But the real takeaway here is that `a` and `b` are not of the exact same Type. If we inspect the two variables we will see that `a` is a `UnitRange` type and `b` is an `Array` of Int64s but they are both of the `AbstractArray` type. \n",
    "\n",
    "Julia has the ability to have a hierarchy of Types. This is not a new concept as other languages I think have this, with both `Float64` and `Int64` being of `Number` type, but what is interesting here (at least for me) is that we can use this as a pseudo OOP.  I wrote this as I was learning and am now revising it after I have figured a few additional things out, but basically all this is made possible by the languages ability to do multiple dispatches. What does this mean? Because, I didn't know what it meant, not being a real `Computer Scientist`. So my naive mind basically boils this down to being able to smartly choose the correct `Type` based on the value given. So if I declare a value `X` and set it equal to `10`, the interpreter is intelligent enough to inspect `10` and understand it is an `Int` and not a `String` or `Float`. This [article](http://www.stochasticlifestyle.com/type-dispatch-design-post-object-oriented-programming-julia/) helped me understand things and shows how the code gets compiled.\n",
    "\n",
    "I really know Python and so I am going to compare Julia to Python. So what is a class in Python or other OOP language but really just a store of attributes (data) about said object. The object then has methods that can be used to get the data or do some type of programming magic related to that object. Objects in Python and other OOP languages can also inherit attributes from parents saving lines of code, and making them easier to maintain. With this in mind I set out to attempt to do some similar type of things in Julia. \n",
    "\n",
    "### Declare abstract types\n",
    "\n",
    "First thing we need to do is declare our abstract types and their hierarchy. The defining I am doing here could be done across multiple files or in different parts of your code if you are working on a larger project but for demonstrative purposes lets just do it all right here. "
   ]
  },
  {
   "cell_type": "code",
   "execution_count": 8,
   "metadata": {
    "ExecuteTime": {
     "end_time": "2018-09-12T21:52:18.742000-05:00",
     "start_time": "2018-09-13T02:52:18.645Z"
    },
    "collapsed": true
   },
   "outputs": [],
   "source": [
    "abstract type AbstractPerson end\n",
    "# NewType <: ParentType\n",
    "abstract type AbstractCivilian <: AbstractPerson end\n",
    "abstract type AbstractMilitary <: AbstractPerson end\n",
    "\n",
    "# I want to be able to alter attributes so I am making it mutable, by default its not..\n",
    "mutable struct Person <: AbstractPerson\n",
    "    fname::String\n",
    "    lname::String\n",
    "    sex::String\n",
    "    # you don't have to assign a specific type... its just as fast if you don't\n",
    "    age\n",
    "    education\n",
    "end\n",
    "\n",
    "mutable struct Civilian <: AbstractCivilian\n",
    "    #=\n",
    "    this is where the fake inheritence comes into play. \n",
    "    I haven't found a community wide design pattern yet but plan on adopting `baseType` as my\n",
    "    default inheritence object name. This allows me to always reference the same thing\n",
    "    in order to gain access to inherited attributes\n",
    "    =#\n",
    "    baseType::Person\n",
    "    profession::String\n",
    "    job::String\n",
    "end\n",
    "\n",
    "mutable struct Military <: AbstractMilitary\n",
    "    baseType::Person\n",
    "    branch::String\n",
    "    mos::String\n",
    "    rank::String\n",
    "end\n",
    "\n"
   ]
  },
  {
   "cell_type": "markdown",
   "metadata": {},
   "source": [
    "### Instantiating Types\n",
    "\n",
    "To instantiate one of these types is very similar to Python, kind of... If you want to use named attributes to init the type, you need to define a constructor method/function. "
   ]
  },
  {
   "cell_type": "code",
   "execution_count": 9,
   "metadata": {
    "ExecuteTime": {
     "end_time": "2018-09-12T21:52:19.924000-05:00",
     "start_time": "2018-09-13T02:52:19.756Z"
    }
   },
   "outputs": [
    {
     "data": {
      "text/plain": [
       "Military"
      ]
     },
     "execution_count": 9,
     "metadata": {},
     "output_type": "execute_result"
    }
   ],
   "source": [
    "# without making a constructor you just pass in your attributes in order\n",
    "john_doe = Person(\"John\", \"Doe\", \"Male\", nothing, nothing)\n",
    "\n",
    "#But I think this could get confusing and/or we want to be able to have some default values\n",
    "# This is really just a function/method condensed down to a single line\n",
    "Person(;fname=\"John\",lname=\"Doe\",sex=\"M\",age=\"Unknown\",education=\"Unknown\") = Person(fname,lname,sex,age,education)\n",
    "\n",
    "# This is the long form of the above. Both ways work, this is probably easier to understand though\n",
    "function Civilian(; fname=\"John\",\n",
    "                    lname=\"Doe\",\n",
    "                    sex=\"M\",\n",
    "                    age=\"Unknown\",\n",
    "                    education=\"Unknown\",\n",
    "                    profession=\"Unknown\",\n",
    "                    job=\"Unknown\")\n",
    "    baseType = Person(fname,lname,sex,age,education)\n",
    "    return Civilian(baseType, profession,job)\n",
    "end\n",
    "\n",
    "function Military(; fname=\"John\",\n",
    "                    lname=\"Doe\",\n",
    "                    sex=\"M\",\n",
    "                    age=\"Unknown\",\n",
    "                    education=\"Unknown\",\n",
    "                    branch=\"Unknown\",\n",
    "                    mos=\"None\",\n",
    "                    rank=\"Boot\")\n",
    "    baseType = Person(fname,lname,sex,age,education)\n",
    "    return Military(baseType,branch,mos,rank)\n",
    "end"
   ]
  },
  {
   "cell_type": "code",
   "execution_count": 10,
   "metadata": {
    "ExecuteTime": {
     "end_time": "2018-09-12T21:52:20.360000-05:00",
     "start_time": "2018-09-13T02:52:20.138Z"
    }
   },
   "outputs": [
    {
     "name": "stdout",
     "output_type": "stream",
     "text": [
      "Attributes of Person:\n",
      "(:fname, :lname, :sex, :age, :education)\n",
      "Attributes of Military:\n",
      "(:baseType, :branch, :mos, :rank)\n",
      "Attributes of Civilian:\n",
      "(:baseType, :profession, :job)\n"
     ]
    }
   ],
   "source": [
    "println(\"Attributes of Person:\")\n",
    "println(fieldnames(Person))\n",
    "\n",
    "println(\"Attributes of Military:\")\n",
    "println(fieldnames(Military))\n",
    "\n",
    "println(\"Attributes of Civilian:\")\n",
    "println(fieldnames(Civilian))"
   ]
  },
  {
   "cell_type": "code",
   "execution_count": 11,
   "metadata": {
    "ExecuteTime": {
     "end_time": "2018-09-12T21:52:20.504000-05:00",
     "start_time": "2018-09-13T02:52:20.442Z"
    }
   },
   "outputs": [
    {
     "name": "stdout",
     "output_type": "stream",
     "text": [
      "This is Matt Camp and he was in the Marine Corps.\n"
     ]
    }
   ],
   "source": [
    "matt = Military(\n",
    "    fname=\"Matt\",\n",
    "    lname=\"Camp\",\n",
    "    age=33,\n",
    "    education=\"Masters\",\n",
    "    branch=\"Marine Corps\",\n",
    "    mos=\"0811/0231\",\n",
    "    rank=\"Sgt.\"    \n",
    ")\n",
    "\n",
    "candace = Civilian(\n",
    "    fname=\"Cadace\",\n",
    "    lname=\"Camp\",\n",
    "    sex=\"F\",\n",
    "    age=31,\n",
    "    profession=\"Domestic Engineer\",\n",
    "    job=\"Dog Mom\"\n",
    ")\n",
    "#We can access the attributes of the Type just like we can the attributes of a Class in Python.\n",
    "println(\"This is \" * matt.baseType.fname * \" \" * matt.baseType.lname *\" and he was in the \" * matt.branch * \".\")"
   ]
  },
  {
   "cell_type": "markdown",
   "metadata": {},
   "source": [
    "### Create Methods/Functions\n",
    "\n",
    "Having to join my first and last name together like I did above kind of is a pain. Lets create a method to return my full name, and while we are at it lets create a couple other methods. One thing to take note of here is that because Julia allows multiple dispatches we can create the same function/method multiple times for the different Types that we want it to be used on. "
   ]
  },
  {
   "cell_type": "code",
   "execution_count": 12,
   "metadata": {
    "ExecuteTime": {
     "end_time": "2018-09-12T21:52:21.792000-05:00",
     "start_time": "2018-09-13T02:52:21.544Z"
    }
   },
   "outputs": [
    {
     "data": {
      "text/plain": [
       "\"Matt Camp\""
      ]
     },
     "execution_count": 12,
     "metadata": {},
     "output_type": "execute_result"
    }
   ],
   "source": [
    "get_fullname(x::AbstractPerson) = x.fname * \" \" * x.lname\n",
    "# we can either do this which isn't too bad\n",
    "get_fullname(matt.baseType)"
   ]
  },
  {
   "cell_type": "markdown",
   "metadata": {},
   "source": [
    "One thing to take note of is that I couldn't just pass in the variable `matt`. I had to do `matt.baseType`. This is one of the limitation of faking inheritence. Because of the multiple dispatching ability of Julia we can do the following but it means writing more code, so its not perfect. "
   ]
  },
  {
   "cell_type": "code",
   "execution_count": 13,
   "metadata": {
    "ExecuteTime": {
     "end_time": "2018-09-12T21:52:22.248000-05:00",
     "start_time": "2018-09-13T02:52:22.218Z"
    }
   },
   "outputs": [
    {
     "data": {
      "text/plain": [
       "\"Cadace Camp\""
      ]
     },
     "execution_count": 13,
     "metadata": {},
     "output_type": "execute_result"
    }
   ],
   "source": [
    "# or if we want to make things easier on the front end we can do this\n",
    "# I don't think this is perfect but its not horrible.\n",
    "get_fullname(x::AbstractCivilian) = x.baseType.fname * \" \" * x.baseType.lname\n",
    "get_fullname(x::AbstractMilitary) = x.baseType.fname * \" \" * x.baseType.lname\n",
    "\n",
    "get_fullname(candace)"
   ]
  },
  {
   "cell_type": "code",
   "execution_count": 14,
   "metadata": {
    "ExecuteTime": {
     "end_time": "2018-09-12T21:52:22.830000-05:00",
     "start_time": "2018-09-13T02:52:22.625Z"
    }
   },
   "outputs": [
    {
     "data": {
      "text/plain": [
       "get_job_title (generic function with 1 method)"
      ]
     },
     "execution_count": 14,
     "metadata": {},
     "output_type": "execute_result"
    }
   ],
   "source": [
    "function get_profession_type(x::AbstractMilitary)\n",
    "    if x.branch == \"Coast Guard\"\n",
    "        return \"Civilian\" #;-P\n",
    "    else\n",
    "        return \"Military\"\n",
    "    end\n",
    "end\n",
    "\n",
    "get_profession_type(x::AbstractCivilian) = \"Civilian\"\n",
    "\n",
    "get_profession(x::AbstractMilitary) = x.mos\n",
    "get_profession(x::AbstractCivilian) = x.profession\n",
    "\n",
    "function get_title(x::AbstractPerson)\n",
    "    if x.sex == \"M\"\n",
    "        return \"Mr.\"\n",
    "    else\n",
    "        return \"Ms.\"\n",
    "    end\n",
    "end\n",
    "\n",
    "function get_title(x::AbstractCivilian)\n",
    "    if x.baseType.sex == \"M\"\n",
    "        return \"Mr.\"\n",
    "    else\n",
    "        return \"Ms.\"\n",
    "    end\n",
    "end\n",
    "\n",
    "get_title(x::AbstractMilitary) = x.rank\n",
    "\n",
    "function get_job_title(x::AbstractMilitary)\n",
    "    if x.branch == \"Marine Corps\"\n",
    "        return \"Marine\"\n",
    "    elseif x.branch == \"Army\"\n",
    "        return \"Soldier\"\n",
    "    elseif x.branch == \"Navy\"\n",
    "        return \"Sailor\"\n",
    "    elseif x.branch == \"Air Force\"\n",
    "        return \"Airman\"\n",
    "    else\n",
    "        if x.basetType.sex == \"M\"\n",
    "            return \"Mr.\"\n",
    "        else\n",
    "            return \"Ms.\"\n",
    "        end\n",
    "    end\n",
    "end"
   ]
  },
  {
   "cell_type": "markdown",
   "metadata": {},
   "source": [
    "Creating all these different methods seems to me like it could get messy and a uniform grouping method might be needed to keep things clean and organized. As I see it there are two ways to organize these methods. They can be organized by function or by Type. Coming from Python I think organizing the methods by the Type they support would be the most logical, though I could see a reason to group them by function. \n",
    "\n",
    "\n",
    "### Converting Types\n",
    "\n",
    "One intersting thing I found in my research and learning of Julia, is that you could convert a Type to another Type. This could be useful or not, I don't know but I thought the following was an intersting use case.\n",
    "\n",
    "Also I got an idea in the back of my head on how you could do inheritence this way too and it would avoid the nested type structure. But it might end up being more code and could get messy. Just a thought to anyone willing to play around with it. "
   ]
  },
  {
   "cell_type": "code",
   "execution_count": 15,
   "metadata": {
    "ExecuteTime": {
     "end_time": "2018-09-12T21:52:24.227000-05:00",
     "start_time": "2018-09-13T02:52:23.917Z"
    }
   },
   "outputs": [
    {
     "data": {
      "text/plain": [
       "Civilian(Person(\"Matt\", \"Camp\", \"M\", 33, \"Masters\"), \"Data Science\", \"Artificial Intelligence Software Developer\")"
      ]
     },
     "execution_count": 15,
     "metadata": {},
     "output_type": "execute_result"
    }
   ],
   "source": [
    "function enlist(::Type{AbstractMilitary}, c::AbstractCivilian) \n",
    "    return Military(fname=c.baseType.fname, \n",
    "                    lname=c.baseType.lname, \n",
    "                    age=c.baseType.age,\n",
    "                    sex=c.baseType.sex,\n",
    "                    education=c.baseType.education, \n",
    "                    branch=\"Unknown\", \n",
    "                    mos=\"No MOS\", \n",
    "                    rank=\"Rct.\" )\n",
    "end\n",
    "\n",
    "function eas(::Type{AbstractCivilian}, m::AbstractMilitary)\n",
    "    return Civilian(fname=m.baseType.fname, \n",
    "                    lname=m.baseType.lname, \n",
    "                    age=m.baseType.age, \n",
    "                    sex=m.baseType.sex,\n",
    "                    education=m.baseType.education,\n",
    "                    profession=\"Disabled Veteran\",\n",
    "                    job=\"Unemployed\" )\n",
    "end\n",
    "\n",
    "Military(c::AbstractCivilian) = enlist(AbstractMilitary, c)\n",
    "Civilian(m::AbstractMilitary) = eas(AbstractCivilian, m)\n",
    "\n",
    "matt = Civilian(matt)\n",
    "matt.job = \"Artificial Intelligence Software Developer\"\n",
    "matt.profession = \"Data Science\"\n",
    "candace = Military(candace)\n",
    "\n",
    "matt"
   ]
  },
  {
   "cell_type": "markdown",
   "metadata": {},
   "source": [
    "Till now I've been using method and function interchangeably. When looking at this function called `methods()` and looking more closely at the [Julia documentation](https://docs.julialang.org/en/v1/manual/methods/) I think I finally figured it out in my head. Julia has functions, and most things are going to be a function. Functions accept arguments in the form tuples containing different `Types`. These types are constructed via Methods. Each Type can have multiple Methods for construction. So if we look at the following we will see that each Type has multiple Methods that I defined previously. \n",
    "\n",
    "So to rephrase this incase my logic is hard to follow. A Type is the Object that contains information. To make a Type you can have multiple Methods. Where some Methods take in named attributes and others convert some Type to another Type. Functions are for lack of a better word, the program. They are the things that act upon Types. \n",
    "\n",
    "Sorry for all the rambling but I am learning this stuff too. I hope this helps someone else wrap their head around the subject. "
   ]
  },
  {
   "cell_type": "code",
   "execution_count": 16,
   "metadata": {
    "ExecuteTime": {
     "end_time": "2018-09-12T21:52:26.119000-05:00",
     "start_time": "2018-09-13T02:52:25.564Z"
    }
   },
   "outputs": [
    {
     "data": {
      "text/html": [
       "3 methods for generic function <b>Type</b>:<ul><li> Person(; <i>fname, lname, sex, age, education</i>) in Main at In[9]:6</li> <li> Person(fname::<b>String</b>, lname::<b>String</b>, sex::<b>String</b>, age, education) in Main at In[8]:8</li> <li> Person(fname, lname, sex, age, education) in Main at In[8]:8</li> </ul>"
      ],
      "text/plain": [
       "# 3 methods for generic function \"(::Type)\":\n",
       "[1] Person(; fname, lname, sex, age, education) in Main at In[9]:6\n",
       "[2] Person(fname::String, lname::String, sex::String, age, education) in Main at In[8]:8\n",
       "[3] Person(fname, lname, sex, age, education) in Main at In[8]:8"
      ]
     },
     "execution_count": 16,
     "metadata": {},
     "output_type": "execute_result"
    }
   ],
   "source": [
    "methods(Person)"
   ]
  },
  {
   "cell_type": "code",
   "execution_count": 17,
   "metadata": {
    "ExecuteTime": {
     "end_time": "2018-09-12T21:52:26.121000-05:00",
     "start_time": "2018-09-13T02:52:25.881Z"
    }
   },
   "outputs": [
    {
     "data": {
      "text/html": [
       "4 methods for generic function <b>Type</b>:<ul><li> Military(; <i>fname, lname, sex, age, education, branch, mos, rank</i>) in Main at In[9]:28</li> <li> Military(baseType::<b>Person</b>, branch::<b>String</b>, mos::<b>String</b>, rank::<b>String</b>) in Main at In[8]:29</li> <li> Military(c::<b>AbstractCivilian</b>) in Main at In[15]:22</li> <li> Military(baseType, branch, mos, rank) in Main at In[8]:29</li> </ul>"
      ],
      "text/plain": [
       "# 4 methods for generic function \"(::Type)\":\n",
       "[1] Military(; fname, lname, sex, age, education, branch, mos, rank) in Main at In[9]:28\n",
       "[2] Military(baseType::Person, branch::String, mos::String, rank::String) in Main at In[8]:29\n",
       "[3] Military(c::AbstractCivilian) in Main at In[15]:22\n",
       "[4] Military(baseType, branch, mos, rank) in Main at In[8]:29"
      ]
     },
     "execution_count": 17,
     "metadata": {},
     "output_type": "execute_result"
    }
   ],
   "source": [
    "methods(Military)"
   ]
  },
  {
   "cell_type": "code",
   "execution_count": 18,
   "metadata": {
    "ExecuteTime": {
     "end_time": "2018-09-12T21:52:26.123000-05:00",
     "start_time": "2018-09-13T02:52:26.098Z"
    }
   },
   "outputs": [
    {
     "data": {
      "text/html": [
       "4 methods for generic function <b>Type</b>:<ul><li> Civilian(; <i>fname, lname, sex, age, education, profession, job</i>) in Main at In[9]:16</li> <li> Civilian(baseType::<b>Person</b>, profession::<b>String</b>, job::<b>String</b>) in Main at In[8]:23</li> <li> Civilian(m::<b>AbstractMilitary</b>) in Main at In[15]:23</li> <li> Civilian(baseType, profession, job) in Main at In[8]:23</li> </ul>"
      ],
      "text/plain": [
       "# 4 methods for generic function \"(::Type)\":\n",
       "[1] Civilian(; fname, lname, sex, age, education, profession, job) in Main at In[9]:16\n",
       "[2] Civilian(baseType::Person, profession::String, job::String) in Main at In[8]:23\n",
       "[3] Civilian(m::AbstractMilitary) in Main at In[15]:23\n",
       "[4] Civilian(baseType, profession, job) in Main at In[8]:23"
      ]
     },
     "execution_count": 18,
     "metadata": {},
     "output_type": "execute_result"
    }
   ],
   "source": [
    "methods(Civilian)"
   ]
  },
  {
   "cell_type": "markdown",
   "metadata": {},
   "source": [
    "### Conclusion\n",
    "\n",
    "So, I just want to surmise that I think Julia to be a really neat language that could potentially surpass Python in popularity. It is both faster and it can import Python packages directly and vice versa  thanks to [PyJulia](https://github.com/JuliaPy/pyjulia).\n",
    "\n",
    "#### P.S.\n",
    "\n",
    "Ok, so I was already to wrap this up but I read more and found a package that does some metaprogramming to do inheritance. I found a [package](https://github.com/tbreloff/ConcreteAbstractions.jl) that will basically allow you to do inheritance in a more natural way. But I have yet to get it to work with Julia v1.0. I am not sure if this is due to my ignorance or if it is an incompatibility problem since the package hasn't had an update since 2016. "
   ]
  },
  {
   "cell_type": "code",
   "execution_count": null,
   "metadata": {
    "collapsed": true
   },
   "outputs": [],
   "source": []
  }
 ],
 "metadata": {
  "hide_input": false,
  "kernelspec": {
   "display_name": "Python 3",
   "language": "python",
   "name": "python3"
  },
  "language_info": {
   "codemirror_mode": {
    "name": "ipython",
    "version": 3
   },
   "file_extension": ".py",
   "mimetype": "text/x-python",
   "name": "python",
   "nbconvert_exporter": "python",
   "pygments_lexer": "ipython3",
   "version": "3.6.3"
  },
  "latex_envs": {
   "LaTeX_envs_menu_present": true,
   "autoclose": false,
   "autocomplete": true,
   "bibliofile": "biblio.bib",
   "cite_by": "apalike",
   "current_citInitial": 1,
   "eqLabelWithNumbers": true,
   "eqNumInitial": 1,
   "hotkeys": {
    "equation": "Ctrl-E",
    "itemize": "Ctrl-I"
   },
   "labels_anchors": false,
   "latex_user_defs": false,
   "report_style_numbering": false,
   "user_envs_cfg": false
  },
  "varInspector": {
   "cols": {
    "lenName": 16,
    "lenType": 16,
    "lenVar": 40
   },
   "kernels_config": {
    "python": {
     "delete_cmd_postfix": "",
     "delete_cmd_prefix": "del ",
     "library": "var_list.py",
     "varRefreshCmd": "print(var_dic_list())"
    },
    "r": {
     "delete_cmd_postfix": ") ",
     "delete_cmd_prefix": "rm(",
     "library": "var_list.r",
     "varRefreshCmd": "cat(var_dic_list()) "
    }
   },
   "types_to_exclude": [
    "module",
    "function",
    "builtin_function_or_method",
    "instance",
    "_Feature"
   ],
   "window_display": false
  }
 },
 "nbformat": 4,
 "nbformat_minor": 2
}
